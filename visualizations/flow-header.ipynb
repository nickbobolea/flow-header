{
 "cells": [
  {
   "cell_type": "markdown",
   "id": "65d253b5-d11a-4357-a780-4096a819846b",
   "metadata": {},
   "source": [
    "## Study Visualizations"
   ]
  },
  {
   "cell_type": "markdown",
   "id": "5ef9abc6-c69e-4266-b224-af94e9053144",
   "metadata": {},
   "source": [
    "### Import Packages\n",
    "The Python packages required by this notebook are imported. The package and Python interpreter versions are printed to ensure analysis reproducibility."
   ]
  },
  {
   "cell_type": "code",
   "execution_count": 1,
   "id": "39853f48-78b0-4cdc-bd7c-bc866e4a6769",
   "metadata": {},
   "outputs": [
    {
     "name": "stdout",
     "output_type": "stream",
     "text": [
      "Python version: 3.8.8 (default, Apr 13 2021, 19:58:26) \n",
      "[GCC 7.3.0].\n",
      "IPython package version: 7.22.0.\n",
      "pandas package version: 1.2.4.\n",
      "plotly package version: 4.14.3.\n"
     ]
    }
   ],
   "source": [
    "import os\n",
    "import sys\n",
    "import pandas\n",
    "import plotly\n",
    "import plotly.express as px\n",
    "import plotly.graph_objects as go\n",
    "import IPython\n",
    "from collections import OrderedDict\n",
    "print(f\"Python version: {sys.version}.\")\n",
    "print(f\"IPython package version: {IPython.__version__}.\")\n",
    "print(f\"pandas package version: {pandas.__version__}.\")\n",
    "print(f\"plotly package version: {plotly.__version__}.\")"
   ]
  },
  {
   "cell_type": "markdown",
   "id": "0ee93df1-0292-4c6d-91ce-bc48ef19432d",
   "metadata": {},
   "source": [
    "### Define and Load Data Sources\n",
    "The data files from the case specific `postProcessing` folder are loaded into pandas dataframes."
   ]
  },
  {
   "cell_type": "code",
   "execution_count": 2,
   "id": "8c1fb22c-99fd-4a9d-be05-f443f80dcbed",
   "metadata": {},
   "outputs": [],
   "source": [
    "# Define data file information\n",
    "# data_file_info = OrderedDict()\n",
    "data_file_info = {'inlet1_massflow':[\"Time [s]\", \"inlet1 Mass Flow [kg/s]\"],\n",
    "                  'inlet2_massflow':[\"Time [s]\", \"inlet2 Mass Flow [kg/s]\"],\n",
    "                  'outlet_massflow':[\"Time [s]\", \"outlet Mass Flow [kg/s]\"],\n",
    "                  'outlet_temperature':[\"Time [s]\", \"outlet Average Temperature [K]\"],\n",
    "                  'residuals':[\"Time [s]\", \"Ux\", \"Uy\",\"Uz\",\"p_rgh\",\"e\", \"k\", \"epsilon\"],\n",
    "                  'pressure_drop':[\"Time [s]\", \"inlet1-outlet Pressure Drop [Pa]\"]}\n",
    "\n",
    "# Create simulation data dictionary\n",
    "# simulation_data = OrderedDict()\n",
    "simulation_data = {}\n",
    "# Create case list\n",
    "case_list = []\n",
    "# Traverse simulation repository, po;ulate case list and load case data\n",
    "for root, dirs, files in os.walk(\"../\", topdown=True):\n",
    "    for name in files:\n",
    "        for data_source, source_headers in data_file_info.items():\n",
    "            file_path = os.path.join(root, name)\n",
    "            file_match = '/postProcessing/' + str(data_source) + '/'\n",
    "            if file_match in file_path:\n",
    "                case_name = file_path.split('/')[1]\n",
    "                if case_name not in case_list:\n",
    "                    case_list.append(case_name)\n",
    "                case_id = case_name + ':' + data_source\n",
    "                data_source_data = pandas.read_csv(file_path, delim_whitespace=True, comment ='#',\n",
    "                                   header = None, names = source_headers, float_precision='round_trip')\n",
    "                simulation_data[case_id] = data_source_data\n"
   ]
  },
  {
   "cell_type": "markdown",
   "id": "4f88e9f2-6272-4465-a165-15e121032c29",
   "metadata": {},
   "source": [
    "### Create Plots\n",
    "Create interactive plots for the simulation data."
   ]
  },
  {
   "cell_type": "code",
   "execution_count": 3,
   "id": "13d99750-ac9c-4011-8b6b-ca88fe6c9fc2",
   "metadata": {},
   "outputs": [
    {
     "data": {
      "text/html": [
       "\n",
       "        <iframe\n",
       "            width=\"1000\"\n",
       "            height=\"900\"\n",
       "            src=\"flow-header-plots.html\"\n",
       "            frameborder=\"0\"\n",
       "            allowfullscreen\n",
       "        ></iframe>\n",
       "        "
      ],
      "text/plain": [
       "<IPython.lib.display.IFrame at 0x7fe011348be0>"
      ]
     },
     "execution_count": 3,
     "metadata": {},
     "output_type": "execute_result"
    }
   ],
   "source": [
    "# Set figure dimensions for inline display\n",
    "figure_width = 1000\n",
    "figure_height = 900\n",
    "# Initialize figure number\n",
    "figure_number = 1\n",
    "# Initialize figure list\n",
    "figure_list = []\n",
    "for data_key, data_value in simulation_data.items():\n",
    "    # Set figure title\n",
    "    case_name = data_key.split(':')[0]\n",
    "    file_name = data_key.split(':')[1]\n",
    "    figure_title = \"Figure \" + str(figure_number) + \": Case \" + case_name + \" - \" + file_name\n",
    "    # Get data into a dataframe\n",
    "    data_df = data_value\n",
    "    # Get x axis value\n",
    "    x_val = data_df['Time [s]']\n",
    "    # Define figure\n",
    "    fig = go.Figure()\n",
    "    # Iterate over dataframe parameter columns\n",
    "    for column in data_df.columns[1:]:\n",
    "        # Get y axis value\n",
    "        y_val = data_df[column]\n",
    "        fig.add_trace(\n",
    "            go.Scatter(\n",
    "                x = x_val,\n",
    "                y = y_val,\n",
    "                mode = 'lines',\n",
    "                name = column)\n",
    "        )\n",
    "\n",
    "    if file_name == 'residuals':\n",
    "        yaxis_type_value = 'log'\n",
    "        yaxis_title_value = 'Residuals'\n",
    "    else:\n",
    "        yaxis_type_value = 'linear'\n",
    "        yaxis_title_value = column\n",
    "        \n",
    "    fig.update_layout(\n",
    "        title_text=figure_title,\n",
    "        title_x=0.5,\n",
    "        xaxis_title=data_df.columns[0],\n",
    "        yaxis_title=yaxis_title_value\n",
    "    )\n",
    "    \n",
    "    fig.update_yaxes(\n",
    "        showexponent='all',\n",
    "        exponentformat='e',\n",
    "        minexponent=5,\n",
    "        type=yaxis_type_value\n",
    "    )\n",
    "\n",
    "    figure_html_name = str(figure_number) + \"-\" + case_name + \"-\" + file_name + \".html\"\n",
    "    figure_list.append(fig)\n",
    "    figure_number += 1\n",
    "\n",
    "# Write the all simulation plots to a single html file\n",
    "plot_package = 'flow-header-plots.html'\n",
    "with open(plot_package, 'w') as f:\n",
    "    for figure in figure_list:\n",
    "        f.write(figure.to_html(full_html=False, include_plotlyjs='cdn'))\n",
    "\n",
    "# Display simulation plots\n",
    "IPython.display.IFrame(plot_package, width=figure_width, height=figure_height)"
   ]
  },
  {
   "cell_type": "code",
   "execution_count": 4,
   "id": "b15b29d6-b2be-4b4f-8fb0-658f1bdc3e32",
   "metadata": {},
   "outputs": [
    {
     "data": {
      "text/plain": [
       "0"
      ]
     },
     "execution_count": 4,
     "metadata": {},
     "output_type": "execute_result"
    }
   ],
   "source": [
    "# Export notebook to html\n",
    "os.system('jupyter nbconvert --to html flow-header.ipynb')"
   ]
  }
 ],
 "metadata": {
  "kernelspec": {
   "display_name": "Python 3",
   "language": "python",
   "name": "python3"
  },
  "language_info": {
   "codemirror_mode": {
    "name": "ipython",
    "version": 3
   },
   "file_extension": ".py",
   "mimetype": "text/x-python",
   "name": "python",
   "nbconvert_exporter": "python",
   "pygments_lexer": "ipython3",
   "version": "3.8.8"
  }
 },
 "nbformat": 4,
 "nbformat_minor": 5
}
