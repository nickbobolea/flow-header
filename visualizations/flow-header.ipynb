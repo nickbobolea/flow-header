{
 "cells": [
  {
   "cell_type": "markdown",
   "id": "65d253b5-d11a-4357-a780-4096a819846b",
   "metadata": {},
   "source": [
    "## Study Visualizations"
   ]
  },
  {
   "cell_type": "markdown",
   "id": "5ef9abc6-c69e-4266-b224-af94e9053144",
   "metadata": {},
   "source": [
    "### Import Packages\n",
    "The Python packages required by this notebook are imported. The package and Python interpreter versions are printed to ensure analysis reproducibility."
   ]
  },
  {
   "cell_type": "code",
   "execution_count": 1,
   "id": "39853f48-78b0-4cdc-bd7c-bc866e4a6769",
   "metadata": {},
   "outputs": [
    {
     "name": "stdout",
     "output_type": "stream",
     "text": [
      "Python version: 3.8.8 (default, Apr 13 2021, 19:58:26) \n",
      "[GCC 7.3.0].\n",
      "IPython package version: 7.22.0.\n",
      "pandas package version: 1.2.4.\n",
      "plotly package version: 4.14.3.\n"
     ]
    }
   ],
   "source": [
    "import os\n",
    "import sys\n",
    "import pandas\n",
    "import plotly\n",
    "import plotly.express as px\n",
    "import plotly.graph_objects as go\n",
    "import IPython\n",
    "from collections import OrderedDict\n",
    "print(f\"Python version: {sys.version}.\")\n",
    "print(f\"IPython package version: {IPython.__version__}.\")\n",
    "print(f\"pandas package version: {pandas.__version__}.\")\n",
    "print(f\"plotly package version: {plotly.__version__}.\")"
   ]
  },
  {
   "cell_type": "markdown",
   "id": "0ee93df1-0292-4c6d-91ce-bc48ef19432d",
   "metadata": {},
   "source": [
    "### Define and Load Data Sources\n",
    "The data files from the case specific `postProcessing` folder are loaded into pandas dataframes."
   ]
  },
  {
   "cell_type": "code",
   "execution_count": 2,
   "id": "8c1fb22c-99fd-4a9d-be05-f443f80dcbed",
   "metadata": {},
   "outputs": [],
   "source": [
    "# Define data file information\n",
    "data_file_info = OrderedDict()\n",
    "data_file_info = {'inlet1_massflow':[\"Time [s]\", \"inlet1 Mass Flow [kg/s]\"],\n",
    "                  'inlet2_massflow':[\"Time [s]\", \"inlet2 Mass Flow [kg/s]\"],\n",
    "                  'outlet_massflow':[\"Time [s]\", \"outlet Mass Flow [kg/s]\"],\n",
    "                  'outlet_temperature':[\"Time [s]\", \"outlet Average Temperature [K]\"],\n",
    "                  'residuals':[\"Time [s]\", \"Ux\", \"Uy\",\"Uz\",\"p_rgh\",\"e\", \"k\", \"epsilon\"],\n",
    "                  'pressure_drop':[\"Time [s]\", \"inlet1-outlet Pressure Drop [Pa]\"]}\n",
    "\n",
    "# Create simulation data dictionary\n",
    "simulation_data = OrderedDict()\n",
    "# Create case list\n",
    "case_list = []\n",
    "# Traverse simulation repository, po;ulate case list and load case data\n",
    "for root, dirs, files in os.walk(\"../\", topdown=True):\n",
    "    for name in files:\n",
    "        for data_source, source_headers in data_file_info.items():\n",
    "            file_path = os.path.join(root, name)\n",
    "            file_match = '/postProcessing/' + str(data_source) + '/'\n",
    "            if file_match in file_path:\n",
    "                case_name = file_path.split('/')[1]\n",
    "                if case_name not in case_list:\n",
    "                    case_list.append(case_name)\n",
    "                case_id = case_name + ':' + data_source\n",
    "                data_source_data = pandas.read_csv(file_path, delim_whitespace=True, comment ='#',\n",
    "                                   header = None, names = source_headers, float_precision='round_trip')\n",
    "                simulation_data[case_id] = data_source_data\n",
    "\n",
    "#print(simulation_data)\n",
    "#print(case_list)\n",
    "#test_df = simulation_data['symmetric-velocity-temperature:inlet1_massflow']\n",
    "# test_df = simulation_data[case_list[0]+':inlet1_massflow']\n",
    "#test_df = simulation_data[str(case_list[0]) + ':' + str(data_file_info['inlet1_massflow'])]\n",
    "#display(test_df)"
   ]
  },
  {
   "cell_type": "markdown",
   "id": "4f88e9f2-6272-4465-a165-15e121032c29",
   "metadata": {},
   "source": [
    "### Create Plots\n",
    "Create interactive plots for the simulation data."
   ]
  },
  {
   "cell_type": "code",
   "execution_count": 3,
   "id": "f7e995d6-7ee6-4297-b3fb-2a9c1f893c38",
   "metadata": {},
   "outputs": [],
   "source": [
    "# Set figure dimensions for inline display\n",
    "figure_width = 1000\n",
    "figure_height = 900"
   ]
  },
  {
   "cell_type": "code",
   "execution_count": 4,
   "id": "6f89fd8d-e8f1-47e3-ac0c-1b1eaf49bcf3",
   "metadata": {},
   "outputs": [
    {
     "data": {
      "text/html": [
       "\n",
       "        <iframe\n",
       "            width=\"1000\"\n",
       "            height=\"900\"\n",
       "            src=\"01-outlet-temperature.html\"\n",
       "            frameborder=\"0\"\n",
       "            allowfullscreen\n",
       "        ></iframe>\n",
       "        "
      ],
      "text/plain": [
       "<IPython.lib.display.IFrame at 0x7f2a9c52adc0>"
      ]
     },
     "execution_count": 4,
     "metadata": {},
     "output_type": "execute_result"
    }
   ],
   "source": [
    "# Plot outlet temperature\n",
    "fig = go.Figure()\n",
    "fig.add_trace(\n",
    "    go.Scatter(\n",
    "        x = simulation_data['symmetric-velocity-temperature:outlet_temperature']['Time [s]'],\n",
    "        y = simulation_data['symmetric-velocity-temperature:outlet_temperature']['outlet Average Temperature [K]'],\n",
    "        mode = 'lines'\n",
    "    )\n",
    ")\n",
    "\n",
    "fig.update_layout(\n",
    "    title_text='Figure 1: Average Outlet Temperature',\n",
    "    title_x=0.5,\n",
    "    xaxis_title='Time [s]',\n",
    "    yaxis_title='Temperature [K]',\n",
    ")\n",
    "\n",
    "fig.write_html('01-outlet-temperature.html')\n",
    "IPython.display.IFrame('01-outlet-temperature.html', width=figure_width, height=figure_height)"
   ]
  },
  {
   "cell_type": "code",
   "execution_count": 5,
   "id": "dc19c82c-0225-4983-9d67-1660c41ac178",
   "metadata": {},
   "outputs": [
    {
     "data": {
      "text/html": [
       "\n",
       "        <iframe\n",
       "            width=\"1000\"\n",
       "            height=\"900\"\n",
       "            src=\"02-residuals.html\"\n",
       "            frameborder=\"0\"\n",
       "            allowfullscreen\n",
       "        ></iframe>\n",
       "        "
      ],
      "text/plain": [
       "<IPython.lib.display.IFrame at 0x7f2a6e8daa30>"
      ]
     },
     "execution_count": 5,
     "metadata": {},
     "output_type": "execute_result"
    }
   ],
   "source": [
    "# Plot residuals\n",
    "fig = go.Figure()\n",
    "fig.add_trace(\n",
    "    go.Scatter(\n",
    "        x = simulation_data['symmetric-velocity-temperature:residuals']['Time [s]'],\n",
    "        y = simulation_data['symmetric-velocity-temperature:residuals']['Ux'],\n",
    "        mode = 'lines',\n",
    "        name = 'Ux'\n",
    "    )\n",
    ")\n",
    "\n",
    "fig.add_trace(\n",
    "    go.Scatter(\n",
    "        x = simulation_data['symmetric-velocity-temperature:residuals']['Time [s]'],\n",
    "        y = simulation_data['symmetric-velocity-temperature:residuals']['Uy'],\n",
    "        mode = 'lines',\n",
    "        name = 'Uy'\n",
    "    )\n",
    ")\n",
    "\n",
    "fig.add_trace(\n",
    "    go.Scatter(\n",
    "        x = simulation_data['symmetric-velocity-temperature:residuals']['Time [s]'],\n",
    "        y = simulation_data['symmetric-velocity-temperature:residuals']['Uz'],\n",
    "        mode = 'lines',\n",
    "        name = 'Uz'\n",
    "    )\n",
    ")\n",
    "\n",
    "fig.add_trace(\n",
    "    go.Scatter(\n",
    "        x = simulation_data['symmetric-velocity-temperature:residuals']['Time [s]'],\n",
    "        y = simulation_data['symmetric-velocity-temperature:residuals']['p_rgh'],\n",
    "        mode = 'lines',\n",
    "        name = 'p_rgh'\n",
    "    )\n",
    ")\n",
    "\n",
    "fig.add_trace(\n",
    "    go.Scatter(\n",
    "        x = simulation_data['symmetric-velocity-temperature:residuals']['Time [s]'],\n",
    "        y = simulation_data['symmetric-velocity-temperature:residuals']['e'],\n",
    "        mode = 'lines',\n",
    "        name = 'e'\n",
    "    )\n",
    ")\n",
    "\n",
    "fig.add_trace(\n",
    "    go.Scatter(\n",
    "        x = simulation_data['symmetric-velocity-temperature:residuals']['Time [s]'],\n",
    "        y = simulation_data['symmetric-velocity-temperature:residuals']['k'],\n",
    "        mode = 'lines',\n",
    "        name = 'k'\n",
    "    )\n",
    ")\n",
    "\n",
    "fig.add_trace(\n",
    "    go.Scatter(\n",
    "        x = simulation_data['symmetric-velocity-temperature:residuals']['Time [s]'],\n",
    "        y = simulation_data['symmetric-velocity-temperature:residuals']['epsilon'],\n",
    "        mode = 'lines',\n",
    "        name = 'epsilon'\n",
    "    )\n",
    ")\n",
    "\n",
    "\n",
    "fig.update_layout(\n",
    "    title_text='Figure 2: Residuals',\n",
    "    title_x=0.5,\n",
    "    xaxis_title='Time [s]',\n",
    "    yaxis_title='Residual Magnitude',\n",
    "    yaxis_type=\"log\"\n",
    ")\n",
    "\n",
    "fig.update_yaxes(\n",
    "    showexponent='all',\n",
    "    exponentformat='e',\n",
    "    minexponent=1\n",
    ")\n",
    "\n",
    "fig.write_html('02-residuals.html')\n",
    "IPython.display.IFrame('02-residuals.html', width=figure_width, height=figure_height)"
   ]
  },
  {
   "cell_type": "code",
   "execution_count": 6,
   "id": "e7d93b06-eed6-44e4-bb4b-3d74fbea5171",
   "metadata": {},
   "outputs": [
    {
     "data": {
      "text/html": [
       "\n",
       "        <iframe\n",
       "            width=\"1000\"\n",
       "            height=\"900\"\n",
       "            src=\"03-mass-flow-rates.html\"\n",
       "            frameborder=\"0\"\n",
       "            allowfullscreen\n",
       "        ></iframe>\n",
       "        "
      ],
      "text/plain": [
       "<IPython.lib.display.IFrame at 0x7f2a6e8f5280>"
      ]
     },
     "execution_count": 6,
     "metadata": {},
     "output_type": "execute_result"
    }
   ],
   "source": [
    "# Plot mass flow\n",
    "fig = go.Figure()\n",
    "fig.add_trace(\n",
    "    go.Scatter(\n",
    "        x = simulation_data['symmetric-velocity-temperature:inlet1_massflow']['Time [s]'],\n",
    "        y = simulation_data['symmetric-velocity-temperature:inlet1_massflow']['inlet1 Mass Flow [kg/s]'],\n",
    "        mode = 'lines',\n",
    "        name = 'inlet1'\n",
    "    )\n",
    ")\n",
    "\n",
    "fig.add_trace(\n",
    "    go.Scatter(\n",
    "        x = simulation_data['symmetric-velocity-temperature:inlet2_massflow']['Time [s]'],\n",
    "        y = simulation_data['symmetric-velocity-temperature:inlet2_massflow']['inlet2 Mass Flow [kg/s]'],\n",
    "        mode = 'lines',\n",
    "        name = 'inlet2'\n",
    "    )\n",
    ")\n",
    "\n",
    "fig.add_trace(\n",
    "    go.Scatter(\n",
    "        x = simulation_data['symmetric-velocity-temperature:outlet_massflow']['Time [s]'],\n",
    "        y = simulation_data['symmetric-velocity-temperature:outlet_massflow']['outlet Mass Flow [kg/s]'],\n",
    "        mode = 'lines',\n",
    "        name = 'outlet'\n",
    "    )\n",
    ")\n",
    "\n",
    "\n",
    "fig.update_layout(\n",
    "    title_text='Figure 3: Inlet and Outlet Mass Flow Rates',\n",
    "    title_x=0.5,\n",
    "    xaxis_title='Time [s]',\n",
    "    yaxis_title='Mass Flow [kg/s]',\n",
    ")\n",
    "\n",
    "fig.write_html('03-mass-flow-rates.html')\n",
    "IPython.display.IFrame('03-mass-flow-rates.html', width=figure_width, height=figure_height)"
   ]
  },
  {
   "cell_type": "code",
   "execution_count": 7,
   "id": "d004a4e5-ff5f-4d47-b435-77d78a1b80db",
   "metadata": {},
   "outputs": [
    {
     "data": {
      "text/html": [
       "\n",
       "        <iframe\n",
       "            width=\"1000\"\n",
       "            height=\"900\"\n",
       "            src=\"04-pressure-difference.html\"\n",
       "            frameborder=\"0\"\n",
       "            allowfullscreen\n",
       "        ></iframe>\n",
       "        "
      ],
      "text/plain": [
       "<IPython.lib.display.IFrame at 0x7f2a9c4be9d0>"
      ]
     },
     "execution_count": 7,
     "metadata": {},
     "output_type": "execute_result"
    }
   ],
   "source": [
    "# Pressure Drop\n",
    "fig = go.Figure()\n",
    "fig.add_trace(\n",
    "    go.Scatter(\n",
    "        x = simulation_data['symmetric-velocity-temperature:pressure_drop']['Time [s]'],\n",
    "        y = simulation_data['symmetric-velocity-temperature:pressure_drop']['inlet1-outlet Pressure Drop [Pa]'],\n",
    "        mode = 'lines'\n",
    "    )\n",
    ")\n",
    "\n",
    "fig.update_layout(\n",
    "    title_text='Figure 4: Inlet - Outlet Pressure Drop',\n",
    "    title_x=0.5,\n",
    "    xaxis_title='Time [s]',\n",
    "    yaxis_title='Pressure Difference [Pa]',\n",
    ")\n",
    "\n",
    "fig.update_yaxes(\n",
    "    showexponent='all',\n",
    "    exponentformat='e',\n",
    "    minexponent=5\n",
    ")\n",
    "\n",
    "fig.write_html('04-pressure-difference.html')\n",
    "IPython.display.IFrame('04-pressure-difference.html', width=figure_width, height=figure_height)"
   ]
  },
  {
   "cell_type": "code",
   "execution_count": null,
   "id": "13d99750-ac9c-4011-8b6b-ca88fe6c9fc2",
   "metadata": {},
   "outputs": [],
   "source": []
  }
 ],
 "metadata": {
  "kernelspec": {
   "display_name": "Python 3",
   "language": "python",
   "name": "python3"
  },
  "language_info": {
   "codemirror_mode": {
    "name": "ipython",
    "version": 3
   },
   "file_extension": ".py",
   "mimetype": "text/x-python",
   "name": "python",
   "nbconvert_exporter": "python",
   "pygments_lexer": "ipython3",
   "version": "3.8.8"
  }
 },
 "nbformat": 4,
 "nbformat_minor": 5
}
